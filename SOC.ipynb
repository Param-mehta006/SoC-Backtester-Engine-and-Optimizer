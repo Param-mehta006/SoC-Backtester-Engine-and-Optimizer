{
 "cells": [
  {
   "cell_type": "code",
   "execution_count": 1,
   "id": "5b00d66a",
   "metadata": {},
   "outputs": [],
   "source": [
    "import pandas as pd\n"
   ]
  },
  {
   "cell_type": "code",
   "execution_count": 2,
   "id": "e328170b",
   "metadata": {},
   "outputs": [],
   "source": [
    "df = pd.read_csv('NIFTY.csv')"
   ]
  },
  {
   "cell_type": "code",
   "execution_count": 14,
   "id": "8216447c",
   "metadata": {},
   "outputs": [
    {
     "data": {
      "text/plain": [
       "-4197.438101707086"
      ]
     },
     "execution_count": 14,
     "metadata": {},
     "output_type": "execute_result"
    }
   ],
   "source": [
    "ema9 = []\n",
    "summ = 0\n",
    "\n",
    "for x in range (8):\n",
    "    ema9.append(0)\n",
    "    closer = df.loc[x,\"Close\"]\n",
    "    summ += closer\n",
    "    \n",
    "ema9.append((closer + sum)/9)\n",
    "    \n",
    "for x in range (9,1240):\n",
    "    closer = df.loc[x,\"Close\"]\n",
    "    ema9.append(closer*0.1 + ema9[x-1]*0.9)\n",
    "    \n",
    "ema19 = []\n",
    "sum1 = 0\n",
    "\n",
    "for x in range (18):\n",
    "    ema19.append(0)\n",
    "    closer = df.loc[x,\"Close\"]\n",
    "    sum1 += closer\n",
    "    \n",
    "ema19.append((closer + sum1)/19)\n",
    "\n",
    "for x in range (19,1240):\n",
    "    closer = df.loc[x,\"Close\"]\n",
    "    ema19.append(closer*0.05 + ema19[x-1]*0.95)\n",
    "    \n",
    "emadiff = []\n",
    "\n",
    "for x in range (0,18):\n",
    "    emadiff.append(0)\n",
    "    \n",
    "for x in range (18,1240):\n",
    "    emadiff.append(ema9[x] - ema19[x])\n",
    "    \n",
    "postion = 0\n",
    "holding = 0\n",
    "holdingday = 0\n",
    "PnL = 0\n",
    "\n",
    "for x in range (19,1240):\n",
    "    low = df.loc[x,\"Low\"]\n",
    "    opener = df.loc[x,\"Open\"]\n",
    "    closer = df.loc[x,\"Close\"]\n",
    "    high = df.loc[x,\"High\"]\n",
    "    if (emadiff[x] < emadiff[x-1] and high > ema9[x] and high > ema19[x] and postion == 0):\n",
    "        postion = 1\n",
    "        if (opener > ema19[x] and opener > ema9[x]):\n",
    "            holding = opener\n",
    "        else:\n",
    "            holding = max(ema19[x],ema9[x])     \n",
    "        holdingday = x\n",
    "        \n",
    "    elif ((low < holding*0.95 or x == holdingday + 5) and postion == 1):\n",
    "        postion = 0\n",
    "        if (low < holding*0.95):\n",
    "            PnL += -holding*0.05\n",
    "        else:\n",
    "            PnL += closer- holding\n",
    "            \n",
    "PnL\n",
    "        \n",
    "        \n",
    "        \n",
    "        \n",
    "    "
   ]
  },
  {
   "cell_type": "code",
   "execution_count": null,
   "id": "8eb8de85",
   "metadata": {},
   "outputs": [],
   "source": []
  }
 ],
 "metadata": {
  "kernelspec": {
   "display_name": "Python 3 (ipykernel)",
   "language": "python",
   "name": "python3"
  },
  "language_info": {
   "codemirror_mode": {
    "name": "ipython",
    "version": 3
   },
   "file_extension": ".py",
   "mimetype": "text/x-python",
   "name": "python",
   "nbconvert_exporter": "python",
   "pygments_lexer": "ipython3",
   "version": "3.11.5"
  }
 },
 "nbformat": 4,
 "nbformat_minor": 5
}
